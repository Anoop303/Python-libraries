{
 "cells": [
  {
   "cell_type": "code",
   "execution_count": 11,
   "id": "3e8f0be9-dbaf-49bc-9cdb-e830f7afd6f1",
   "metadata": {},
   "outputs": [],
   "source": [
    "arr = np.array([1,2,3,4,5,6,7,8])"
   ]
  },
  {
   "cell_type": "code",
   "execution_count": 12,
   "id": "fe40c746-6c82-4a35-b99d-d5643080bd12",
   "metadata": {},
   "outputs": [
    {
     "name": "stdout",
     "output_type": "stream",
     "text": [
      "First three elements: [1 2 3]\n"
     ]
    }
   ],
   "source": [
    "print(\"First three elements:\",arr[:3])"
   ]
  },
  {
   "cell_type": "code",
   "execution_count": 14,
   "id": "0716f336-ea67-4a26-9455-7a3cafdcdc78",
   "metadata": {},
   "outputs": [
    {
     "name": "stdout",
     "output_type": "stream",
     "text": [
      "Even indexed numbers: [1 3 5 7]\n"
     ]
    }
   ],
   "source": [
    "print(\"Even indexed numbers:\",arr[::2])"
   ]
  },
  {
   "cell_type": "code",
   "execution_count": 16,
   "id": "5e9806ca-f53b-4439-9585-76cd3359b887",
   "metadata": {},
   "outputs": [
    {
     "name": "stdout",
     "output_type": "stream",
     "text": [
      "Reversed array: [8 7 6 5 4 3 2 1]\n"
     ]
    }
   ],
   "source": [
    "print(\"Reversed array:\",arr[::-1])"
   ]
  },
  {
   "cell_type": "code",
   "execution_count": null,
   "id": "7989ba58-2849-40f1-a7e8-6f1a8d78882d",
   "metadata": {},
   "outputs": [],
   "source": []
  }
 ],
 "metadata": {
  "kernelspec": {
   "display_name": "Python 3 (ipykernel)",
   "language": "python",
   "name": "python3"
  },
  "language_info": {
   "codemirror_mode": {
    "name": "ipython",
    "version": 3
   },
   "file_extension": ".py",
   "mimetype": "text/x-python",
   "name": "python",
   "nbconvert_exporter": "python",
   "pygments_lexer": "ipython3",
   "version": "3.8.0"
  }
 },
 "nbformat": 4,
 "nbformat_minor": 5
}
