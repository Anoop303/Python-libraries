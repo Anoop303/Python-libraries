{
 "cells": [
  {
   "cell_type": "code",
   "execution_count": 1,
   "id": "448f3cf9-3f11-4162-9f3d-adaf9eb38ee1",
   "metadata": {},
   "outputs": [],
   "source": [
    "import pandas as pd"
   ]
  },
  {
   "cell_type": "code",
   "execution_count": 3,
   "id": "5d8d5589-88f9-4eff-a3a9-0100b07f40df",
   "metadata": {},
   "outputs": [],
   "source": [
    "space_x_missions_csv = \"https://raw.githubusercontent.com/BriantOliveira/SpaceX-Dataset/master/dataset/SpaceX-Missions.csv\"\n",
    "df=pd.read_csv(space_x_missions_csv)"
   ]
  },
  {
   "cell_type": "markdown",
   "id": "c329f286-88e3-4163-87a5-22f525c35545",
   "metadata": {},
   "source": [
    "Grouping data"
   ]
  },
  {
   "cell_type": "code",
   "execution_count": 5,
   "id": "9de1c2df-d998-46e5-8d52-cadf243c23d7",
   "metadata": {},
   "outputs": [
    {
     "data": {
      "text/plain": [
       "Launch Site\n",
       "Cape Canaveral AFS LC-40       3075.880\n",
       "Kennedy Space Center LC-39A    2490.000\n",
       "Marshall Islands                 93.125\n",
       "Vandenberg AFB SLC-4E          3551.000\n",
       "Name: Payload Mass (kg), dtype: float64"
      ]
     },
     "execution_count": 5,
     "metadata": {},
     "output_type": "execute_result"
    }
   ],
   "source": [
    "launch_site=df.groupby('Launch Site')\n",
    "launch_site\n",
    "launch_site['Payload Mass (kg)'].mean()"
   ]
  },
  {
   "cell_type": "code",
   "execution_count": null,
   "id": "9284f141-e64d-4f37-b039-59fe32af744e",
   "metadata": {},
   "outputs": [],
   "source": []
  }
 ],
 "metadata": {
  "kernelspec": {
   "display_name": "Python 3 (ipykernel)",
   "language": "python",
   "name": "python3"
  },
  "language_info": {
   "codemirror_mode": {
    "name": "ipython",
    "version": 3
   },
   "file_extension": ".py",
   "mimetype": "text/x-python",
   "name": "python",
   "nbconvert_exporter": "python",
   "pygments_lexer": "ipython3",
   "version": "3.8.0"
  }
 },
 "nbformat": 4,
 "nbformat_minor": 5
}
