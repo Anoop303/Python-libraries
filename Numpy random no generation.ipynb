{
 "cells": [
  {
   "cell_type": "code",
   "execution_count": 1,
   "id": "9bda955a-5476-4e4b-9171-5dbd02a58286",
   "metadata": {},
   "outputs": [],
   "source": [
    "import numpy as np"
   ]
  },
  {
   "cell_type": "code",
   "execution_count": 4,
   "id": "1566886c-111a-4ff2-baa0-bd9d77365645",
   "metadata": {},
   "outputs": [
    {
     "name": "stdout",
     "output_type": "stream",
     "text": [
      "[0.36466471 0.65364822 0.82668611 0.95735318 0.28804976]\n"
     ]
    }
   ],
   "source": [
    "numbers= np.random.rand(5)\n",
    "print(numbers)"
   ]
  },
  {
   "cell_type": "code",
   "execution_count": 5,
   "id": "f05e965c-4652-4d0f-85a6-ba30f728586a",
   "metadata": {},
   "outputs": [
    {
     "data": {
      "text/plain": [
       "array([[0.31193982, 0.13446031, 0.91175111],\n",
       "       [0.25083636, 0.87465155, 0.76422536]])"
      ]
     },
     "execution_count": 5,
     "metadata": {},
     "output_type": "execute_result"
    }
   ],
   "source": [
    "array=np.random.rand(2,3)\n",
    "array"
   ]
  },
  {
   "cell_type": "code",
   "execution_count": 6,
   "id": "05dcdb3f-c5b6-47d2-9424-33c03695733f",
   "metadata": {},
   "outputs": [
    {
     "data": {
      "text/plain": [
       "array([[ 1.29975905, -1.33676558, -0.0230275 ],\n",
       "       [-0.16501467, -1.11507419,  1.09437467]])"
      ]
     },
     "execution_count": 6,
     "metadata": {},
     "output_type": "execute_result"
    }
   ],
   "source": [
    "array2= np.random.randn(2,3)\n",
    "array2 # mean 0 and sd 1"
   ]
  },
  {
   "cell_type": "code",
   "execution_count": 9,
   "id": "375471d6-1bc7-4fb4-aab5-2454d8e963eb",
   "metadata": {},
   "outputs": [
    {
     "data": {
      "text/plain": [
       "array([[51, 25, 21],\n",
       "       [27, 49, 59]])"
      ]
     },
     "execution_count": 9,
     "metadata": {},
     "output_type": "execute_result"
    }
   ],
   "source": [
    "array3= np.random.randint(1,10,size=3)\n",
    "array3\n",
    "\n",
    "array4= np.random.randint(1,100,size=(2,3))\n",
    "array4"
   ]
  },
  {
   "cell_type": "code",
   "execution_count": null,
   "id": "46df1f0d-7791-49dc-b9d0-007ca5f32ce1",
   "metadata": {},
   "outputs": [],
   "source": []
  }
 ],
 "metadata": {
  "kernelspec": {
   "display_name": "Python 3 (ipykernel)",
   "language": "python",
   "name": "python3"
  },
  "language_info": {
   "codemirror_mode": {
    "name": "ipython",
    "version": 3
   },
   "file_extension": ".py",
   "mimetype": "text/x-python",
   "name": "python",
   "nbconvert_exporter": "python",
   "pygments_lexer": "ipython3",
   "version": "3.8.0"
  }
 },
 "nbformat": 4,
 "nbformat_minor": 5
}
